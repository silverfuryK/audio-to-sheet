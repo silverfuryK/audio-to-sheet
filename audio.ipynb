{
  "nbformat": 4,
  "nbformat_minor": 0,
  "metadata": {
    "colab": {
      "name": "audio.ipynb",
      "provenance": [],
      "authorship_tag": "ABX9TyMwHwiHmwlhQV9K3+IlGH8k",
      "include_colab_link": true
    },
    "kernelspec": {
      "name": "python3",
      "display_name": "Python 3"
    },
    "language_info": {
      "name": "python"
    }
  },
  "cells": [
    {
      "cell_type": "markdown",
      "metadata": {
        "id": "view-in-github",
        "colab_type": "text"
      },
      "source": [
        "<a href=\"https://colab.research.google.com/github/silverfuryK/audio-to-sheet/blob/main/audio.ipynb\" target=\"_parent\"><img src=\"https://colab.research.google.com/assets/colab-badge.svg\" alt=\"Open In Colab\"/></a>"
      ]
    },
    {
      "cell_type": "code",
      "metadata": {
        "id": "F7iXIbYO_cSk",
        "colab": {
          "base_uri": "https://localhost:8080/"
        },
        "outputId": "02e89335-08b0-40b3-e960-e091d383600f"
      },
      "source": [
        "!pip install mido\n",
        "!pip install pygame\n",
        "!pip install music21"
      ],
      "execution_count": 1,
      "outputs": [
        {
          "output_type": "stream",
          "name": "stdout",
          "text": [
            "Requirement already satisfied: mido in /usr/local/lib/python3.7/dist-packages (1.2.10)\n",
            "Requirement already satisfied: pygame in /usr/local/lib/python3.7/dist-packages (2.0.1)\n",
            "Requirement already satisfied: music21 in /usr/local/lib/python3.7/dist-packages (5.5.0)\n"
          ]
        }
      ]
    },
    {
      "cell_type": "code",
      "metadata": {
        "colab": {
          "base_uri": "https://localhost:8080/"
        },
        "id": "lzq5HBlkxUSB",
        "outputId": "59538bde-a1f0-4dc9-fa3b-c4db83c614bc"
      },
      "source": [
        "from google.colab import drive\n",
        "drive.mount('/gdrive')"
      ],
      "execution_count": 2,
      "outputs": [
        {
          "output_type": "stream",
          "name": "stdout",
          "text": [
            "Drive already mounted at /gdrive; to attempt to forcibly remount, call drive.mount(\"/gdrive\", force_remount=True).\n"
          ]
        }
      ]
    },
    {
      "cell_type": "code",
      "metadata": {
        "colab": {
          "base_uri": "https://localhost:8080/"
        },
        "id": "d8pkOMYwJEfj",
        "outputId": "6a29c004-96fe-4f10-8881-f95d5f80836e"
      },
      "source": [
        "import os\n",
        "import math\n",
        "import numpy as np\n",
        "import pandas as pd\n",
        "from mido import MidiFile\n",
        "import pygame\n",
        "import IPython\n",
        "import matplotlib.pyplot as plt\n",
        "import librosa.display\n",
        "import librosa\n",
        "from music21 import *"
      ],
      "execution_count": 3,
      "outputs": [
        {
          "output_type": "stream",
          "name": "stdout",
          "text": [
            "pygame 2.0.1 (SDL 2.0.14, Python 3.7.12)\n",
            "Hello from the pygame community. https://www.pygame.org/contribute.html\n"
          ]
        }
      ]
    },
    {
      "cell_type": "code",
      "metadata": {
        "id": "B7VdbPcWhGMv"
      },
      "source": [
        "np_data = np.load(open('/gdrive/MyDrive/MusicNet/musicnet.npz','rb'))\n"
      ],
      "execution_count": 4,
      "outputs": []
    },
    {
      "cell_type": "code",
      "metadata": {
        "colab": {
          "base_uri": "https://localhost:8080/",
          "height": 204
        },
        "id": "3N76tWN6KMbb",
        "outputId": "66e0a1f6-1490-4398-db01-a360fd23ffac"
      },
      "source": [
        "#data=pd.read_csv('/content/2106.csv')\n",
        "data=pd.read_csv('/gdrive/MyDrive/MusicNet/2106.csv')\n",
        "#data=pd.read_csv('/gdrive/MyDrive/MusicNet/2416.csv')\n",
        "\n",
        "data.head()"
      ],
      "execution_count": 5,
      "outputs": [
        {
          "output_type": "execute_result",
          "data": {
            "text/html": [
              "<div>\n",
              "<style scoped>\n",
              "    .dataframe tbody tr th:only-of-type {\n",
              "        vertical-align: middle;\n",
              "    }\n",
              "\n",
              "    .dataframe tbody tr th {\n",
              "        vertical-align: top;\n",
              "    }\n",
              "\n",
              "    .dataframe thead th {\n",
              "        text-align: right;\n",
              "    }\n",
              "</style>\n",
              "<table border=\"1\" class=\"dataframe\">\n",
              "  <thead>\n",
              "    <tr style=\"text-align: right;\">\n",
              "      <th></th>\n",
              "      <th>start_time</th>\n",
              "      <th>end_time</th>\n",
              "      <th>instrument</th>\n",
              "      <th>note</th>\n",
              "      <th>start_beat</th>\n",
              "      <th>end_beat</th>\n",
              "      <th>note_value</th>\n",
              "    </tr>\n",
              "  </thead>\n",
              "  <tbody>\n",
              "    <tr>\n",
              "      <th>0</th>\n",
              "      <td>9694</td>\n",
              "      <td>11742</td>\n",
              "      <td>41</td>\n",
              "      <td>61</td>\n",
              "      <td>4.875</td>\n",
              "      <td>0.108333</td>\n",
              "      <td>Thirty Second</td>\n",
              "    </tr>\n",
              "    <tr>\n",
              "      <th>1</th>\n",
              "      <td>11742</td>\n",
              "      <td>34270</td>\n",
              "      <td>41</td>\n",
              "      <td>62</td>\n",
              "      <td>5.000</td>\n",
              "      <td>0.975000</td>\n",
              "      <td>Quarter</td>\n",
              "    </tr>\n",
              "    <tr>\n",
              "      <th>2</th>\n",
              "      <td>34270</td>\n",
              "      <td>53725</td>\n",
              "      <td>42</td>\n",
              "      <td>54</td>\n",
              "      <td>6.000</td>\n",
              "      <td>0.975000</td>\n",
              "      <td>Quarter</td>\n",
              "    </tr>\n",
              "    <tr>\n",
              "      <th>3</th>\n",
              "      <td>34270</td>\n",
              "      <td>53725</td>\n",
              "      <td>43</td>\n",
              "      <td>50</td>\n",
              "      <td>6.000</td>\n",
              "      <td>0.975000</td>\n",
              "      <td>Quarter</td>\n",
              "    </tr>\n",
              "    <tr>\n",
              "      <th>4</th>\n",
              "      <td>34270</td>\n",
              "      <td>53725</td>\n",
              "      <td>41</td>\n",
              "      <td>57</td>\n",
              "      <td>6.000</td>\n",
              "      <td>0.975000</td>\n",
              "      <td>Quarter</td>\n",
              "    </tr>\n",
              "  </tbody>\n",
              "</table>\n",
              "</div>"
            ],
            "text/plain": [
              "   start_time  end_time  instrument  note  start_beat  end_beat     note_value\n",
              "0        9694     11742          41    61       4.875  0.108333  Thirty Second\n",
              "1       11742     34270          41    62       5.000  0.975000        Quarter\n",
              "2       34270     53725          42    54       6.000  0.975000        Quarter\n",
              "3       34270     53725          43    50       6.000  0.975000        Quarter\n",
              "4       34270     53725          41    57       6.000  0.975000        Quarter"
            ]
          },
          "metadata": {},
          "execution_count": 5
        }
      ]
    },
    {
      "cell_type": "code",
      "metadata": {
        "id": "h-KzL9lFa53v"
      },
      "source": [
        "# notes_arr =np.zero([end_sample-start_sample,100,120])\n",
        "# if st_note<start_sample:\n",
        "#    pass\n",
        "\n",
        "# notes_arr[st_note:et_note,intrument,note] = 1"
      ],
      "execution_count": null,
      "outputs": []
    },
    {
      "cell_type": "code",
      "metadata": {
        "colab": {
          "base_uri": "https://localhost:8080/",
          "height": 163
        },
        "id": "rHA40YMMdWe-",
        "outputId": "59a19b53-67f2-490a-9031-1b33e7b9ca16"
      },
      "source": [
        "data.get()"
      ],
      "execution_count": 5,
      "outputs": [
        {
          "output_type": "error",
          "ename": "TypeError",
          "evalue": "ignored",
          "traceback": [
            "\u001b[0;31m---------------------------------------------------------------------------\u001b[0m",
            "\u001b[0;31mTypeError\u001b[0m                                 Traceback (most recent call last)",
            "\u001b[0;32m<ipython-input-5-21a9865f6a99>\u001b[0m in \u001b[0;36m<module>\u001b[0;34m()\u001b[0m\n\u001b[0;32m----> 1\u001b[0;31m \u001b[0mdata\u001b[0m\u001b[0;34m.\u001b[0m\u001b[0mget\u001b[0m\u001b[0;34m(\u001b[0m\u001b[0;34m)\u001b[0m\u001b[0;34m\u001b[0m\u001b[0;34m\u001b[0m\u001b[0m\n\u001b[0m",
            "\u001b[0;31mTypeError\u001b[0m: get() missing 1 required positional argument: 'key'"
          ]
        }
      ]
    },
    {
      "cell_type": "code",
      "metadata": {
        "colab": {
          "base_uri": "https://localhost:8080/"
        },
        "id": "nQEz7V5mdrLm",
        "outputId": "e87761ba-b72a-428f-8eba-2dee057deac0"
      },
      "source": [
        "len(data)"
      ],
      "execution_count": 5,
      "outputs": [
        {
          "output_type": "execute_result",
          "data": {
            "text/plain": [
              "2004"
            ]
          },
          "metadata": {},
          "execution_count": 5
        }
      ]
    },
    {
      "cell_type": "code",
      "metadata": {
        "colab": {
          "base_uri": "https://localhost:8080/"
        },
        "id": "z8fsGo0YJcfP",
        "outputId": "11630569-dc82-4814-b8e3-59e87acdd70a"
      },
      "source": [
        "list(data.value_counts('instrument'))"
      ],
      "execution_count": 41,
      "outputs": [
        {
          "output_type": "execute_result",
          "data": {
            "text/plain": [
              "[725, 416, 245]"
            ]
          },
          "metadata": {},
          "execution_count": 41
        }
      ]
    },
    {
      "cell_type": "code",
      "metadata": {
        "colab": {
          "base_uri": "https://localhost:8080/"
        },
        "id": "esNWGkp2bbV8",
        "outputId": "26bbc9d1-0cd7-4655-e18e-1c106385cf17"
      },
      "source": [
        "num_instru = len(data.value_counts('instrument'))\n",
        "print(num_instru)"
      ],
      "execution_count": 6,
      "outputs": [
        {
          "output_type": "stream",
          "name": "stdout",
          "text": [
            "3\n"
          ]
        }
      ]
    },
    {
      "cell_type": "code",
      "metadata": {
        "colab": {
          "base_uri": "https://localhost:8080/"
        },
        "id": "fRR8zl4CeA-m",
        "outputId": "4582fa6e-414b-489a-9fb5-d7c6e6e6548b"
      },
      "source": [
        "list(data.value_counts('instrument'))"
      ],
      "execution_count": 7,
      "outputs": [
        {
          "output_type": "execute_result",
          "data": {
            "text/plain": [
              "[1191, 458, 355]"
            ]
          },
          "metadata": {},
          "execution_count": 7
        }
      ]
    },
    {
      "cell_type": "code",
      "metadata": {
        "id": "b42NOUhDKWm7"
      },
      "source": [
        "#x, sr = librosa.load('/content/2106.wav')\n",
        "x, sr = librosa.load('/gdrive/MyDrive/MusicNet/2106.wav',sr=44100)"
      ],
      "execution_count": 6,
      "outputs": []
    },
    {
      "cell_type": "code",
      "metadata": {
        "colab": {
          "base_uri": "https://localhost:8080/"
        },
        "id": "N0umxCzgKviv",
        "outputId": "2c3a5647-7190-4221-d86b-80385f615951"
      },
      "source": [
        "print(x.shape)\n",
        "print(sr)"
      ],
      "execution_count": 47,
      "outputs": [
        {
          "output_type": "stream",
          "name": "stdout",
          "text": [
            "(9995520,)\n",
            "44100\n"
          ]
        }
      ]
    },
    {
      "cell_type": "code",
      "metadata": {
        "id": "o1oLlExLIJrT"
      },
      "source": [
        "def csv_to_array(path, num_samples):\n",
        "    df = pd.read_csv(path)\n",
        "    START_TIME = df.start_time[0]\n",
        "    END_TIME = list(df.end_time)[-1]\n",
        "    INTERVAL_LENGTH = (END_TIME - START_TIME)/num_samples\n",
        "    instruments = df.instrument.unique()                       #list of instruments\n",
        "    \n",
        "    inst_dict = {}\n",
        "    i = 0\n",
        "    for inst in df.instrument:\n",
        "        inst_dict.setdefault(inst,[]).append([df.start_time[i], df.end_time[i], df.note[i]]) \n",
        "        i = i+1\n",
        "        \n",
        "    A = np.zeros((num_samples, 100, 120))\n",
        "    instruments = df.instrument.unique()\n",
        "    for inst in instruments:\n",
        "        for curr in inst_dict[inst]:\n",
        "            i = math.floor((curr[0] - START_TIME)/INTERVAL_LENGTH)       #curr[0] == current start time\n",
        "            j = math.floor((curr[1] - START_TIME)/INTERVAL_LENGTH)       #curr[1] == current end time\n",
        "            if  curr[1] == END_TIME:\n",
        "                j = j-1\n",
        "            for sample_idx in range(i, j+1):\n",
        "                A[sample_idx][inst][curr[2]-1] = curr[2]                         #curr[2] == current note\n",
        "    return A"
      ],
      "execution_count": 48,
      "outputs": []
    },
    {
      "cell_type": "code",
      "metadata": {
        "id": "Z9oRGTiUIPpW"
      },
      "source": [
        "#A = csv_to_array('/gdrive/MyDrive/MusicNet/2106.csv',10000)\n",
        "A = csv_to_array('/gdrive/MyDrive/MusicNet/2416.csv',9995520)"
      ],
      "execution_count": null,
      "outputs": []
    },
    {
      "cell_type": "code",
      "metadata": {
        "colab": {
          "base_uri": "https://localhost:8080/"
        },
        "id": "CCRI7a6qIzNF",
        "outputId": "cd736d68-0038-4da8-ce37-612c5f6a4392"
      },
      "source": [
        "np.shape(A[:,42,:][0])"
      ],
      "execution_count": 50,
      "outputs": [
        {
          "output_type": "execute_result",
          "data": {
            "text/plain": [
              "(120,)"
            ]
          },
          "metadata": {},
          "execution_count": 50
        }
      ]
    },
    {
      "cell_type": "code",
      "metadata": {
        "id": "AiMjCS91JMMH"
      },
      "source": [
        "plt.plot(A[:,61,:],'o')"
      ],
      "execution_count": null,
      "outputs": []
    },
    {
      "cell_type": "code",
      "metadata": {
        "colab": {
          "base_uri": "https://localhost:8080/"
        },
        "id": "VUmjj6eFRiyB",
        "outputId": "ae53501a-6585-4d1e-e5cb-39da07a1aba3"
      },
      "source": [
        "import sys\n",
        "sys.getsizeof(A)"
      ],
      "execution_count": 45,
      "outputs": [
        {
          "output_type": "execute_result",
          "data": {
            "text/plain": [
              "960000128"
            ]
          },
          "metadata": {},
          "execution_count": 45
        }
      ]
    },
    {
      "cell_type": "code",
      "metadata": {
        "id": "Ea9-efD0AZZj"
      },
      "source": [
        "samples = \n",
        "notes_occupied = np.zeros((120),dtype=int)\n",
        "inst = list(data.value_counts('instrument'))\n",
        "num_instru = len(data.value_counts('instrument'))\n",
        "notes = np.zeros([len(x),num_instru,120])\n",
        "\n",
        "for i in range(len(data)):\n",
        "  curr_ins = data.get('instrument')[i]\n",
        "  inst_index = inst.inde\n",
        "  curr_note = data.get('note')[i]\n",
        "  curr_st = data.get('start_time')[i]\n",
        "  curr_et = data.get('start_time')[i]\n",
        "  \n",
        "\n",
        "\n"
      ],
      "execution_count": null,
      "outputs": []
    },
    {
      "cell_type": "code",
      "metadata": {
        "id": "9CvIhgN4gUS2"
      },
      "source": [
        "notes_occupied = np.zeros((120),dtype=int)\n",
        "inst = list(data.value_counts('instrument'))\n",
        "num_instru = len(data.value_counts('instrument'))\n",
        "notes = np.zeros([len(x),num_instru,120])"
      ],
      "execution_count": null,
      "outputs": []
    },
    {
      "cell_type": "code",
      "metadata": {
        "colab": {
          "base_uri": "https://localhost:8080/",
          "height": 350
        },
        "id": "mUBmENrhKwYi",
        "outputId": "29b4388f-6f21-4de2-d7e6-96d72ffe87c2"
      },
      "source": [
        "plt.figure(figsize=(14, 5))\n",
        "librosa.display.waveplot(x[0:10000], sr=sr)"
      ],
      "execution_count": 7,
      "outputs": [
        {
          "output_type": "execute_result",
          "data": {
            "text/plain": [
              "<matplotlib.collections.PolyCollection at 0x7fc84ba91d50>"
            ]
          },
          "metadata": {},
          "execution_count": 7
        },
        {
          "output_type": "display_data",
          "data": {
            "image/png": "[encoded data removed]",
            "text/plain": [
              "<Figure size 1008x360 with 1 Axes>"
            ]
          },
          "metadata": {
            "image/png": {
              "width": 846,
              "height": 316
            },
            "needs_background": "light"
          }
        }
      ]
    },
    {
      "cell_type": "code",
      "metadata": {
        "colab": {
          "base_uri": "https://localhost:8080/",
          "height": 336
        },
        "id": "1q7jMUyqZqbf",
        "outputId": "acf6bb27-b5d7-47c0-fc30-3a973888b377"
      },
      "source": [
        "plt.figure(figsize=(14, 5))\n",
        "plt.plot(x[0:10000])"
      ],
      "execution_count": 8,
      "outputs": [
        {
          "output_type": "execute_result",
          "data": {
            "text/plain": [
              "[<matplotlib.lines.Line2D at 0x7fc84b520650>]"
            ]
          },
          "metadata": {},
          "execution_count": 8
        },
        {
          "output_type": "display_data",
          "data": {
            "image/png": "[encoded data removed]",
            "text/plain": [
              "<Figure size 1008x360 with 1 Axes>"
            ]
          },
          "metadata": {
            "image/png": {
              "width": 846,
              "height": 302
            },
            "needs_background": "light"
          }
        }
      ]
    },
    {
      "cell_type": "code",
      "metadata": {
        "colab": {
          "base_uri": "https://localhost:8080/",
          "height": 350
        },
        "id": "zs8-7Dr-K1Q-",
        "outputId": "3406ea78-4711-4251-af34-9dd5aab8c6ab"
      },
      "source": [
        "X = librosa.stft(x[0:10000])\n",
        "Xdb = librosa.amplitude_to_db(abs(X))\n",
        "plt.figure(figsize=(14, 5))\n",
        "librosa.display.specshow(Xdb, sr=44100, x_axis='time', y_axis='hz')"
      ],
      "execution_count": 9,
      "outputs": [
        {
          "output_type": "execute_result",
          "data": {
            "text/plain": [
              "<matplotlib.collections.QuadMesh at 0x7fc84b13ee50>"
            ]
          },
          "metadata": {},
          "execution_count": 9
        },
        {
          "output_type": "display_data",
          "data": {
            "image/png": "[encoded data removed]",
            "text/plain": [
              "<Figure size 1008x360 with 1 Axes>"
            ]
          },
          "metadata": {
            "image/png": {
              "width": 848,
              "height": 316
            },
            "needs_background": "light"
          }
        }
      ]
    },
    {
      "cell_type": "code",
      "metadata": {
        "colab": {
          "base_uri": "https://localhost:8080/"
        },
        "id": "LachspVmMO98",
        "outputId": "eca53e4a-4f1a-4a30-ae64-3d5d73d9d627"
      },
      "source": [
        "np.shape(x)"
      ],
      "execution_count": 11,
      "outputs": [
        {
          "output_type": "execute_result",
          "data": {
            "text/plain": [
              "(2490361,)"
            ]
          },
          "metadata": {},
          "execution_count": 11
        }
      ]
    },
    {
      "cell_type": "code",
      "metadata": {
        "colab": {
          "base_uri": "https://localhost:8080/"
        },
        "id": "9vyUVyPjMjQK",
        "outputId": "b6a373fc-af95-4994-e039-95f8cec32590"
      },
      "source": [
        "np.shape(data)"
      ],
      "execution_count": 13,
      "outputs": [
        {
          "output_type": "execute_result",
          "data": {
            "text/plain": [
              "(2004, 7)"
            ]
          },
          "metadata": {},
          "execution_count": 13
        }
      ]
    },
    {
      "cell_type": "code",
      "metadata": {
        "colab": {
          "base_uri": "https://localhost:8080/"
        },
        "id": "3qRAXjDIMne7",
        "outputId": "8acb3345-db11-4e4c-b284-9a10ffbc6bff"
      },
      "source": [
        "instruments = pd.DataFrame.get(data,'instrument')\n",
        "max(instruments)"
      ],
      "execution_count": 22,
      "outputs": [
        {
          "output_type": "execute_result",
          "data": {
            "text/plain": [
              "43"
            ]
          },
          "metadata": {},
          "execution_count": 22
        }
      ]
    },
    {
      "cell_type": "code",
      "metadata": {
        "id": "UvIlIHagM0Qa"
      },
      "source": [
        "max_instrument = max(instruments)\n",
        "for i in len(x)"
      ],
      "execution_count": null,
      "outputs": []
    },
    {
      "cell_type": "code",
      "metadata": {
        "id": "0znPkeCwfLBh"
      },
      "source": [
        "notes = np.zeros([len(x),num_instru,120])"
      ],
      "execution_count": 112,
      "outputs": []
    },
    {
      "cell_type": "code",
      "metadata": {
        "id": "As6qJoqHfOni"
      },
      "source": [
        "def read_midi(file):\n",
        "    \n",
        "    print(\"Loading Music File:\",file)\n",
        "    \n",
        "    notes=[]\n",
        "    all_notes=[]\n",
        "    notes_to_parse = None\n",
        "    \n",
        "    #parsing a midi file\n",
        "    midi = converter.parse(file)\n",
        "  \n",
        "    #grouping based on different instruments\n",
        "    s2 = instrument.partitionByInstrument(midi)\n",
        "    print(len(s2))\n",
        "\n",
        "    #Looping over all the instruments\n",
        "    for part in s2.parts:\n",
        "    \n",
        "        #select elements of only piano\n",
        "        #if 'Piano' in str(part): \n",
        "        for i in range(int(len(s2))):\n",
        "        \n",
        "            notes_to_parse = part.recurse() \n",
        "            notes = []\n",
        "            #finding whether a particular element is note or a chord\n",
        "            for element in notes_to_parse:\n",
        "                \n",
        "                #note\n",
        "                if isinstance(element, note.Note):\n",
        "                    notes.append(str(element.pitch))\n",
        "                \n",
        "                #chord\n",
        "                elif isinstance(element, chord.Chord):\n",
        "                    notes.append('.'.join(str(n) for n in element.normalOrder))\n",
        "            all_notes.append(notes)\n",
        "\n",
        "    return np.array(all_notes)"
      ],
      "execution_count": 80,
      "outputs": []
    },
    {
      "cell_type": "code",
      "metadata": {
        "id": "Wx9JejWYffbj"
      },
      "source": [
        "#specify the path\n",
        "path='/content/'\n",
        "\n",
        "#read all the filenames\n",
        "files=[i for i in os.listdir(path) if i.endswith(\".mid\")]\n",
        "\n",
        "#reading each midi file\n",
        "notes_array = np.array([read_midi(path+i) for i in files])"
      ],
      "execution_count": null,
      "outputs": []
    },
    {
      "cell_type": "code",
      "metadata": {
        "id": "9JxIDlLFfi_y"
      },
      "source": [
        "np.shape(notes_array)"
      ],
      "execution_count": null,
      "outputs": []
    },
    {
      "cell_type": "code",
      "metadata": {
        "id": "XSyFEUS8nbrf"
      },
      "source": [
        "read_midi('/content/2106.mid')"
      ],
      "execution_count": null,
      "outputs": []
    },
    {
      "cell_type": "code",
      "metadata": {
        "id": "KOL2-ZiOleAE"
      },
      "source": [
        "notes_array[0]"
      ],
      "execution_count": null,
      "outputs": []
    },
    {
      "cell_type": "code",
      "metadata": {
        "colab": {
          "base_uri": "https://localhost:8080/"
        },
        "id": "Nr3EUHX8lhIU",
        "outputId": "20f6887f-3b35-43eb-d412-dd175567004b"
      },
      "source": [
        "notes_ = [element for note_ in notes_array for element in note_]\n",
        "\n",
        "#No. of unique notes\n",
        "unique_notes = list(set(notes_))\n",
        "print(len(unique_notes))"
      ],
      "execution_count": 78,
      "outputs": [
        {
          "output_type": "stream",
          "name": "stdout",
          "text": [
            "24\n"
          ]
        }
      ]
    },
    {
      "cell_type": "code",
      "metadata": {
        "colab": {
          "base_uri": "https://localhost:8080/",
          "height": 163
        },
        "id": "64NUWp7dlr4j",
        "outputId": "6593f646-17d3-433d-dab3-aba91d78ea45"
      },
      "source": [
        "s2"
      ],
      "execution_count": 61,
      "outputs": [
        {
          "output_type": "error",
          "ename": "NameError",
          "evalue": "ignored",
          "traceback": [
            "\u001b[0;31m---------------------------------------------------------------------------\u001b[0m",
            "\u001b[0;31mNameError\u001b[0m                                 Traceback (most recent call last)",
            "\u001b[0;32m<ipython-input-61-630081a5992e>\u001b[0m in \u001b[0;36m<module>\u001b[0;34m()\u001b[0m\n\u001b[0;32m----> 1\u001b[0;31m \u001b[0ms2\u001b[0m\u001b[0;34m\u001b[0m\u001b[0;34m\u001b[0m\u001b[0m\n\u001b[0m",
            "\u001b[0;31mNameError\u001b[0m: name 's2' is not defined"
          ]
        }
      ]
    },
    {
      "cell_type": "code",
      "metadata": {
        "id": "Hb6vq_l9l-5E"
      },
      "source": [
        "\n",
        "# END CSV shape = [total_samples, number of intruments, 120]\n"
      ],
      "execution_count": 95,
      "outputs": []
    },
    {
      "cell_type": "code",
      "metadata": {
        "id": "1YjuuiS3reM-"
      },
      "source": [
        ""
      ],
      "execution_count": null,
      "outputs": []
    }
  ]
}